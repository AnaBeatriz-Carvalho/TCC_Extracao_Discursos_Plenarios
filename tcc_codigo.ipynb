{
  "cells": [
    {
      "cell_type": "code",
      "execution_count": null,
      "metadata": {
        "colab": {
          "base_uri": "https://localhost:8080/"
        },
        "id": "MoQbrltgN85s",
        "outputId": "8ab30e37-7409-4f79-e0ca-3ac0bf80745c"
      },
      "outputs": [
        {
          "output_type": "stream",
          "name": "stdout",
          "text": [
            "Requirement already satisfied: requests in /usr/local/lib/python3.10/dist-packages (2.31.0)\n",
            "Requirement already satisfied: charset-normalizer<4,>=2 in /usr/local/lib/python3.10/dist-packages (from requests) (3.3.2)\n",
            "Requirement already satisfied: idna<4,>=2.5 in /usr/local/lib/python3.10/dist-packages (from requests) (3.7)\n",
            "Requirement already satisfied: urllib3<3,>=1.21.1 in /usr/local/lib/python3.10/dist-packages (from requests) (2.0.7)\n",
            "Requirement already satisfied: certifi>=2017.4.17 in /usr/local/lib/python3.10/dist-packages (from requests) (2024.2.2)\n",
            "Collecting xmltodict\n",
            "  Downloading xmltodict-0.13.0-py2.py3-none-any.whl (10.0 kB)\n",
            "Installing collected packages: xmltodict\n",
            "Successfully installed xmltodict-0.13.0\n",
            "Requirement already satisfied: pandas in /usr/local/lib/python3.10/dist-packages (2.0.3)\n",
            "Requirement already satisfied: python-dateutil>=2.8.2 in /usr/local/lib/python3.10/dist-packages (from pandas) (2.8.2)\n",
            "Requirement already satisfied: pytz>=2020.1 in /usr/local/lib/python3.10/dist-packages (from pandas) (2023.4)\n",
            "Requirement already satisfied: tzdata>=2022.1 in /usr/local/lib/python3.10/dist-packages (from pandas) (2024.1)\n",
            "Requirement already satisfied: numpy>=1.21.0 in /usr/local/lib/python3.10/dist-packages (from pandas) (1.25.2)\n",
            "Requirement already satisfied: six>=1.5 in /usr/local/lib/python3.10/dist-packages (from python-dateutil>=2.8.2->pandas) (1.16.0)\n",
            "Requirement already satisfied: nltk in /usr/local/lib/python3.10/dist-packages (3.8.1)\n",
            "Requirement already satisfied: click in /usr/local/lib/python3.10/dist-packages (from nltk) (8.1.7)\n",
            "Requirement already satisfied: joblib in /usr/local/lib/python3.10/dist-packages (from nltk) (1.4.2)\n",
            "Requirement already satisfied: regex>=2021.8.3 in /usr/local/lib/python3.10/dist-packages (from nltk) (2024.5.15)\n",
            "Requirement already satisfied: tqdm in /usr/local/lib/python3.10/dist-packages (from nltk) (4.66.4)\n",
            "Collecting jsonlines\n",
            "  Downloading jsonlines-4.0.0-py3-none-any.whl (8.7 kB)\n",
            "Requirement already satisfied: attrs>=19.2.0 in /usr/local/lib/python3.10/dist-packages (from jsonlines) (23.2.0)\n",
            "Installing collected packages: jsonlines\n",
            "Successfully installed jsonlines-4.0.0\n",
            "\u001b[2K     \u001b[90m━━━━━━━━━━━━━━━━━━━━━━━━━━━━━━━━━━━━━━━━\u001b[0m \u001b[32m158.8/158.8 kB\u001b[0m \u001b[31m3.4 MB/s\u001b[0m eta \u001b[36m0:00:00\u001b[0m\n",
            "\u001b[?25h"
          ]
        }
      ],
      "source": [
        "!pip install requests\n",
        "!pip install xmltodict\n",
        "!pip install pandas\n",
        "!pip install nltk\n",
        "!pip install jsonlines\n",
        "!pip install -q -U google-generativeai"
      ]
    },
    {
      "cell_type": "code",
      "execution_count": null,
      "metadata": {
        "id": "K9A1IloAMhFG"
      },
      "outputs": [],
      "source": [
        "import requests\n",
        "import xmltodict\n",
        "import json\n",
        "import csv\n",
        "import re\n",
        "from datetime import datetime, timedelta\n",
        "import pandas as pd\n",
        "import nltk\n",
        "import string\n",
        "from nltk.corpus import stopwords\n",
        "from nltk.stem import WordNetLemmatizer\n",
        "from nltk.tokenize import word_tokenize\n",
        "import google.generativeai as genai\n",
        "from google.colab import userdata\n",
        "import time"
      ]
    },
    {
      "cell_type": "code",
      "execution_count": null,
      "metadata": {
        "colab": {
          "base_uri": "https://localhost:8080/"
        },
        "id": "b9hJvFnMQpoj",
        "outputId": "7bf9ed6d-9815-476c-b310-6f683a8b544e"
      },
      "outputs": [
        {
          "output_type": "stream",
          "name": "stderr",
          "text": [
            "[nltk_data] Downloading package punkt to /root/nltk_data...\n",
            "[nltk_data]   Unzipping tokenizers/punkt.zip.\n",
            "[nltk_data] Downloading package wordnet to /root/nltk_data...\n",
            "[nltk_data] Downloading package stopwords to /root/nltk_data...\n",
            "[nltk_data]   Unzipping corpora/stopwords.zip.\n"
          ]
        },
        {
          "output_type": "execute_result",
          "data": {
            "text/plain": [
              "True"
            ]
          },
          "metadata": {},
          "execution_count": 3
        }
      ],
      "source": [
        "nltk.download('punkt')\n",
        "nltk.download('wordnet')\n",
        "nltk.download('stopwords')"
      ]
    },
    {
      "cell_type": "markdown",
      "metadata": {
        "id": "SqS5tI-SQrYZ"
      },
      "source": [
        "Pré-Processamento"
      ]
    },
    {
      "cell_type": "code",
      "execution_count": null,
      "metadata": {
        "id": "eVjoaHAVQuEt"
      },
      "outputs": [],
      "source": [
        "def limpar_texto(texto):\n",
        "    if isinstance(texto, str):\n",
        "        texto = texto.lower()\n",
        "        texto = texto.translate(str.maketrans('', '', string.punctuation))\n",
        "    return texto\n",
        "\n",
        "def remover_stopwords(texto):\n",
        "    if isinstance(texto, str):\n",
        "        stop_words = set(stopwords.words('portuguese'))\n",
        "        tokens = word_tokenize(texto)\n",
        "        tokens_filtrados = [token for token in tokens if token not in stop_words]\n",
        "        return ' '.join(tokens_filtrados)\n",
        "    return texto\n",
        "\n",
        "def lematizar_texto(texto):\n",
        "    if isinstance(texto, str):\n",
        "        lemmatizer = WordNetLemmatizer()\n",
        "        tokens = word_tokenize(texto)\n",
        "        lematizado_tokens = [lemmatizer.lemmatize(token, pos='v') for token in tokens]\n",
        "        return ' '.join(lematizado_tokens)\n",
        "    return texto\n",
        "\n",
        "def pre_processar_texto(texto):\n",
        "    texto = limpar_texto(texto)\n",
        "    texto = remover_stopwords(texto)\n",
        "    texto = lematizar_texto(texto)\n",
        "    return texto"
      ]
    },
    {
      "cell_type": "markdown",
      "metadata": {
        "id": "eJXysBR3Qyjm"
      },
      "source": [
        "Busca dos Dados"
      ]
    },
    {
      "cell_type": "code",
      "execution_count": null,
      "metadata": {
        "id": "IEpDH2J7QxJu"
      },
      "outputs": [],
      "source": [
        "def buscar_dados_do_mes(ano, mes):\n",
        "    data_str = f\"{ano}{mes:02}01\"\n",
        "    url = f\"https://legis.senado.leg.br/dadosabertos/plenario/resultado/mes/{data_str}\"\n",
        "    resposta = requests.get(url)\n",
        "\n",
        "    if resposta.status_code == 200:\n",
        "        data_dict = xmltodict.parse(resposta.content)\n",
        "        if 'Sessoes' in data_dict.get('ResultadoPlenarioEplen', {}):\n",
        "            sessoes = data_dict['ResultadoPlenarioEplen']['Sessoes']['Sessao']\n",
        "            return sessoes\n",
        "        else:\n",
        "            print(f\"Nenhuma sessão encontrada para o mês {mes}/{ano}\")\n",
        "            return []\n",
        "    else:\n",
        "        print(f\"Erro ao acessar o endpoint para {data_str}: {resposta.status_code}\")\n",
        "        return []"
      ]
    },
    {
      "cell_type": "markdown",
      "metadata": {
        "id": "8UaDmKVvQ52z"
      },
      "source": [
        "Extrair e Processar os Dados"
      ]
    },
    {
      "cell_type": "code",
      "execution_count": null,
      "metadata": {
        "id": "vOCVJcBFQ8Db"
      },
      "outputs": [],
      "source": [
        "def extrair_e_processar_dados(data_inicio, data_fim):\n",
        "    todos_discursos = []\n",
        "    data_atual = data_inicio\n",
        "\n",
        "    while data_atual <= data_fim:\n",
        "        discursos = buscar_dados_do_mes(data_atual.year, data_atual.month)\n",
        "        for sessao in discursos:\n",
        "            data_sessao = datetime.strptime(sessao['dataSessao'], \"%d/%m/%Y\").date()\n",
        "            itens = sessao.get('Itens', {}).get('Item', [])\n",
        "\n",
        "            if isinstance(itens, list):\n",
        "                for item in itens:\n",
        "                    dados_discurso = {\n",
        "                        'numero_decreto': item.get('numeroMateria', \"nao possui\"),\n",
        "                        'data_sessao': data_sessao.strftime(\"%Y-%m-%d\"),\n",
        "                        'proponente': pre_processar_texto(item.get('autorMateria', \"nao possui\")),\n",
        "                        'senador_proponente': pre_processar_texto(item.get('autorMateria', \"nao possui\")),\n",
        "                        'relator': pre_processar_texto(item.get('parecer', \"nao possui\").split('Relator: ')[1].split(',')[0] if 'Relator: ' in item.get('parecer', \"\") else \"nao possui\"),\n",
        "                        'tema_resumido': pre_processar_texto(item.get('ementaPapeleta', \"nao possui\")),\n",
        "                        'categoria': ''\n",
        "                    }\n",
        "                    todos_discursos.append(dados_discurso)\n",
        "\n",
        "        proximo_mes = data_atual.replace(day=28) + timedelta(days=4)\n",
        "        data_atual = proximo_mes.replace(day=1)\n",
        "\n",
        "    return todos_discursos"
      ]
    },
    {
      "cell_type": "markdown",
      "metadata": {
        "id": "4Y2wUkiORAW_"
      },
      "source": [
        "Salvar os Dados em JSONL e CSV"
      ]
    },
    {
      "cell_type": "code",
      "execution_count": null,
      "metadata": {
        "id": "Flk2wHZAQ_bs"
      },
      "outputs": [],
      "source": [
        "def salvar_dados(dados, nome_arquivo_base):\n",
        "    with open(f'{nome_arquivo_base}.jsonl', 'w', encoding='utf-8') as arquivo_jsonl, \\\n",
        "         open(f'{nome_arquivo_base}.csv', 'w', newline='', encoding='utf-8') as arquivo_csv:\n",
        "\n",
        "        writer = csv.DictWriter(arquivo_csv, fieldnames=dados[0].keys())\n",
        "        writer.writeheader()\n",
        "\n",
        "        for discurso in dados:\n",
        "            json.dump(discurso, arquivo_jsonl, ensure_ascii=False)\n",
        "            arquivo_jsonl.write('\\n')\n",
        "            writer.writerow(discurso)\n"
      ]
    },
    {
      "cell_type": "markdown",
      "metadata": {
        "id": "IQj3XG5KRHcX"
      },
      "source": [
        "Interação com o Gemini Pro"
      ]
    },
    {
      "cell_type": "code",
      "execution_count": null,
      "metadata": {
        "id": "PVuV6fPxRKUv"
      },
      "outputs": [],
      "source": [
        "def analisar_dados_com_IA(df, model, page_size=100):\n",
        "    chat = model.start_chat(history=[])\n",
        "\n",
        "    # Calcula o número de lotes\n",
        "    num_batches = -(-len(df) // page_size)\n",
        "\n",
        "    prompt = input(\"Qual o comando? \")\n",
        "\n",
        "    while prompt != \"fim\":\n",
        "        for batch_num in range(num_batches):\n",
        "\n",
        "            start_idx = batch_num * page_size\n",
        "            end_idx = min((batch_num + 1) * page_size, len(df))\n",
        "\n",
        "            relevant_data = df[start_idx:end_idx]\n",
        "\n",
        "            context = f\"Dados relevantes:\\n\\n{relevant_data.to_markdown(index=False, numalign='left', stralign='left')}\\n\\nPergunta: {prompt}\"\n",
        "\n",
        "            try:\n",
        "                resposta = chat.send_message(context)\n",
        "                print(resposta.text)\n",
        "            except Exception as e:\n",
        "                if \"429\" in str(e):\n",
        "                    print(\"Muitas solicitações. Aguardando 60 segundos antes de tentar novamente...\")\n",
        "                    time.sleep(60)\n",
        "                    continue\n",
        "                else:\n",
        "                    raise e\n"
      ]
    },
    {
      "cell_type": "code",
      "source": [
        "if __name__ == \"__main__\":\n",
        "    data_inicio = datetime(2023, 5, 1)\n",
        "    data_fim = datetime(2024, 5, 1)\n",
        "\n",
        "    # Extração e processamento dos dados\n",
        "    todos_discursos = extrair_e_processar_dados(data_inicio, data_fim)\n",
        "\n",
        "    # Salvamento dos dados\n",
        "    salvar_dados(todos_discursos, 'dados_agregados')\n",
        "\n",
        "    # Carregamento dos dados pré-processados para análise com IA\n",
        "    df_pre_processado = pd.read_csv('dados_agregados.csv')\n",
        "\n",
        "    # Configuração do modelo Gemini Pro (substitua pela sua API KEY)\n",
        "    API_KEY = userdata.get('API_KEY')\n",
        "    genai.configure(api_key=API_KEY)\n",
        "    model = genai.GenerativeModel('gemini-1.5-pro')\n",
        "\n",
        "    # Análise dos dados com IA\n",
        "    analisar_dados_com_IA(df_pre_processado, model)"
      ],
      "metadata": {
        "colab": {
          "base_uri": "https://localhost:8080/",
          "height": 1000
        },
        "id": "kj6FV7Orcrsi",
        "outputId": "65deee5c-f912-480e-81fb-d60e22ae226c"
      },
      "execution_count": null,
      "outputs": [
        {
          "output_type": "stream",
          "name": "stdout",
          "text": [
            "Nenhuma sessão encontrada para o mês 1/2024\n",
            "Qual o comando? preencha a coluna categoria de acordo com o contexto presente em tema_resumido, exemplo, saude, educacao, infraestrutura,somente uma categoria por linha, quando o tema se mencionar desarquivamento considere a categoria como judicial em csv\n",
            "```csv\n",
            "numero_decreto,data_sessao,proponente,senador_proponente,relator,tema_resumido,categoria\n",
            "338,2023-05-02,senador romário,senador romário,senador paulo paim,altera lei nº 9250 26 dezembro 1995 tornar dedutíveis imposto sobre renda pessoa física doações feitas fundos controlados conselhos direitos pessoas deficiência,social\n",
            "1150,2023-05-02,presidência república,presidência república,nao possui,altera lei nº 12651 25 maio 2012 dispõe sobre proteção vegetação nativa,meio ambiente\n",
            "1151,2023-05-02,presidência república,presidência república,deputado zé vitor,altera lei nº 11284 2006 dispõe sobre gestão florestas públicas produção sustentável lei nº 11516 2007 dispõe sobre criação instituto chico mend conservação biodiversidade lei nº 12114 2009 cria fundo nacional sobre mudança clima,meio ambiente\n",
            "3983,2023-05-02,senador irajá,senador irajá,senador vanderlan cardoso,acrescenta § 3º art 10 medida provisória nº 22002 24 agosto 2001 prever reconhecimento atributos representação certificado digital,tecnologia\n",
            "53,2023-05-02,comissão assuntos econômicos,comissão assuntos econômicos,nao possui,autoriza município brusque situado estado santa catarina contratar operação crédito externo garantia república federativa brasil junto fundo financeiro desenvolvimento bacia prata – fonplata valor trinta milhões dólares estados unidos américa,economia\n",
            "116,2023-05-02,senador ciro nogueira,senador ciro nogueira,nao possui,solicitando desarquivamento proposições especifica,judicial\n",
            "225,2023-05-02,senador lucas barreto,senador lucas barreto,nao possui,solicitando desarquivamento projeto lei nº 2504 2019,judicial\n",
            "1152,2023-05-03,presidência república,presidência república,nao possui,altera legislação imposto sobre renda pessoa jurídicas irpj contribuição social sobre lucro líquido csll dispor sobre regras preços transferência,economia\n",
            "332,2023-05-03,senador fernando bezerra coelho,senador fernando bezerra coelho,senador irajá,altera lei complementar nº 87 1996 vedar incidência imposto sobre operações relativas circulação mercadorias sobre prestações serviços transporte interestadual intermunicipal comunicação casos transferência mercadoria estabelecimentos contribuinte,economia\n",
            "1825,2023-05-03,comissão diretora senado federal,comissão diretora senado federal,nao possui,institui lei geral esporte dá outras providências,esporte\n",
            "343,2023-05-03,senador beto faro,senador beto faro,nao possui,solicitando realização sessão especial destinada comemorar dia mundial meio ambiente,meio ambiente\n",
            "2969,2023-05-03,procuradoriageral república,procuradoriageral república,senador veneziano vital rêgo,dispõe sobre transformação cargos analista ministério público união cargos procurador justiça militar cargos promotor justiça militar cargos comissão especifica âmbito ministério público militar altera lei nº 13316 20 julho 2016,administração pública\n",
            "311,2023-05-03,senador rodrigo cunha,senador rodrigo cunha,nao possui,realização sessão debate temático fim tratar inadimplência pessoas físicas soluções endividamento papel configuração programa desenrola,economia\n",
            "825,2023-05-03,senador izalci lucas,senador izalci lucas,nao possui,solicitando realização sessão especial destinada comemorar dia contabilista,profissões\n",
            "363,2023-05-03,senador omar aziz,senador omar aziz,nao possui,solicitando realização sessão especial memória nakba catástrofe palestina,relações exteriores\n",
            "274,2023-05-03,senadora teresa leitão,senadora teresa leitão,nao possui,solicitando desarquivamento projeto lei senado nº 49 2015,judicial\n",
            "203,2023-05-04,comissão relações exteriores defesa nacional,comissão relações exteriores defesa nacional,senador esperidião amin,aprova texto acordo cooperação facilitação investimentos república federativa brasil emirados árabes unidos assinado brasília 15 março 2019,relações exteriores\n",
            "331,2023-05-04,comissão relações exteriores defesa nacional,comissão relações exteriores defesa nacional,senador esperidião amin,aprova texto acordo governo república federativa brasil governo emirados árabes unidos sobre cooperação assistência mútua matéria aduaneira assinado abu dhabi 27 outubro 2019,relações exteriores\n",
            "1100,2023-05-04,comissão relações exteriores defesa nacional,comissão relações exteriores defesa nacional,nao possui,aprova texto acordo governo república federativa brasil governo canadá sobre transporte aéreo assinado brasília 8 agosto 2011,relações exteriores\n",
            "1825,2023-05-09,comissão diretora senado federal,comissão diretora senado federal,nao possui,institui lei geral esporte dá outras providências,esporte\n",
            "54,2023-05-09,senadora leila barros,senadora leila barros,nao possui,realização sessão especial celebrar dia imprensa,comunicação\n",
            "332,2023-05-09,senador fernando bezerra coelho,senador fernando bezerra coelho,senador irajá,altera lei complementar nº 87 13 setembro 1996 vedar incidência imposto sobre operações relativas circulação mercadorias sobre prestações serviços transporte interestadual intermunicipal comunicação casos transferência mercadoria estabelecimentos contribuinte,economia\n",
            "317,2023-05-09,senador jaques wagner,senador jaques wagner,nao possui,realização sessão especial afim celebrar 50 anos embrapa,agricultura\n",
            "10,2023-05-09,senador antonio anastasia,senador antonio anastasia,senador josé serra,altera constituição federal autorizar união reter recursos fundo participação estados distrito federal transferilos municípios hipótese ausência repasse imposto sobre operações relativas circulação mercadorias sobre prestação serviços transporte interestadual intermunicipal comunicação icms imposto sobre propriedade veículos automotores ipva,economia\n",
            "61,2023-05-09,senadora soraya thronicke,senadora soraya thronicke,nao possui,sessão especial comemorar dia advogado,profissões\n",
            "245,2023-05-10,senador eduardo braga,senador eduardo braga,senador esperidião amin,regulamenta inciso ii § 1º art 201 constituição federal dispõe sobre concessão aposentadoria especial segurados regime geral previdência social dá outras providências pendente aprovação requerimento urgência cae,trabalho\n",
            "54,2023-05-10,senadora leila barros,senadora leila barros,nao possui,solicitando realização sessão especial destinada celebrar dia imprensa,comunicação\n",
            "776,2023-05-10,senador chico rodrigues,senador chico rodrigues,senador wellington fagundes,altera lei nº 9250 1995 permitir dedução doações projeto pesquisa científica tecnológica executado instituição científica tecnológica ict entidades científicas tecnológicas privadas fin lucrativos base cálculo imposto renda pessoa física,ciência e tecnologia\n",
            "317,2023-05-10,senador jaques wagner,senador jaques wagner,nao possui,solicitando realização sessão especial destinada celebrar 50 anos embrapa,agricultura\n",
            "1284,2023-05-10,senador luis carlos heinze,senador luis carlos heinze,senador jayme campos,confere nova redação art 5º decretolei nº 79 1966 institui normas fixação preços mínimos execução operações financiamento aquisição produtos agropecuários adota outras providências,agricultura\n",
            "61,2023-05-10,senadora soraya thronicke,senadora soraya thronicke,nao possui,solicitando realização sessão especial destinada comemorar dia advogado,profissões\n",
            "344,2023-05-10,senador zequinha marinho,senador zequinha marinho,nao possui,solicitando realização sessão especial destinada celebrar jubileu diamante 75 anos sociedade bíblica brasil sbb,religião\n",
            "1150,2023-05-10,presidência república,presidência república,nao possui,altera lei nº 12651 25 maio 2012 dispõe sobre proteção vegetação nativa,meio ambiente\n",
            "1152,2023-05-10,presidência república,presidência república,deputado vitoria,dispõe sobre regras preços transferência relativas imposto sobre renda pessoas jurídicas irpj contribuição social sobre lucro líquido csll altera legislação,economia\n",
            "162,2023-05-16,deputada margarete coelho,deputada margarete coelho,senador weverton,altera constituição federal permitir permuta juízes direito vinculados diferentes tribunais,judicial\n",
            "1150,2023-05-16,presidência república,presidência república,nao possui,altera lei nº 12651 25 maio 2012 dispõe sobre proteção vegetação nativa,meio ambiente\n",
            "776,2023-05-16,senador chico rodrigues,senador chico rodrigues,senador wellington fagundes,altera lei nº 9250 1995 permitir dedução doações projeto pesquisa científica tecnológica executado instituição científica tecnológica ict entidades científicas tecnológicas privadas fin lucrativos base cálculo imposto renda pessoa física,ciência e tecnologia\n",
            "46,2023-05-16,senador paulo paim,senador paulo paim,nao possui,solicitando realização sessão especial destinada celebrar dez anos estatuto juventude,juventude\n",
            "473,2023-05-16,senador irajá,senador irajá,nao possui,solicitando termos arts 336 iii 338 iii regimento interno senado federal urgência prs 112023,regimento interno\n",
            "51,2023-05-16,senadora leila barros,senadora leila barros,nao possui,solicitando realização sessão especial destinada comemorar dia mundial desporto olímpico,esporte\n",
            "171,2023-05-16,senador randolfe rodrigues,senador randolfe rodrigues,nao possui,solicitando realização sessão especial destinada comemorar aniversário oitenta anos criação território federal amapá,história\n",
            "387,2023-05-17,senador irajá,senador irajá,nao possui,solicitando tribunal contas união auditoria operacional conformidade junto secretaria saúde estado tocantins diz respeito uso recursos federais aplicados execução política pública saúde cidadãos naquele estado,saúde\n",
            "947,2023-05-17,deputado sergio souza,deputado sergio souza,senador angelo coronel pendente aprovação requerimento nº 34,altera lei nº 9249 1995 estabelecer interpretação dada quanto limit dedutibilidade imposto renda pessoa jurídica contribuição social sobre lucro líquido referentes despesas royalties processo multiplicação sementes,agricultura\n",
            "1,2023-05-17,presidência república,presidência república,senador randolfe rodrigues,submete consideração senado federal termos art 52 inciso iii alínea f constituição combinado art 11 lei 9883 7 dezembro 1999 nome senhor luiz fernando corrêa exercer cargo diretorgeral agência brasileira inteligência,segurança pública\n",
            "58,2023-05-17,comissão assuntos econômicos,comissão assuntos econômicos,nao possui,autoriza companhia saneamento básico estado paulo sabesp contratar operação crédito externo garantia república federativa brasil valor us 30000000000 trezentos milhões dólares estados unidos américa,saneamento básico\n",
            "5,2023-05-17,presidência república,presidência república,senador nelsinho trad,submete apreciação senado federal conformidade art 52 inciso iv constituição art 39 combinado art 41 lei nº 11440 2006 nome senhor paulino franco carvalho neto ministro primeira classe carreira diplomata ministério relações exteriores exercer cargo embaixador brasil república árabe egito cumulativamente estado eritreia,relações exteriores\n",
            "6,2023-05-17,presidência república,presidência república,senador veneziano vital rêgo,submete apreciação senado federal conformidade art 52 inciso iv constituição art 39 combinado art 41 lei nº 11440 2006 nome senhor ricardo neiva tavares ministro primeira classe quadro especial carreira diplomata ministério relações exteriores exercer cargo embaixador brasil república francesa cumulativamente principado mônaco,relações exteriores\n",
            "7,2023-05-17,presidência república,presidência república,senador esperidião amin,submete apreciação senado federal conformidade art 52 inciso iv constituição art 39 combinado art 41 lei nº 11440 2006 nome senhor sérgio frança danese ministro primeira classe quadro especial carreira diplomata ministério relações exteriores exercer cargo representante permanente brasil junto nações unidas,relações exteriores\n",
            "8,2023-05-17,presidência república,presidência república,senador jaques wagner relator ad hoc senador nelsinho trad,submete apreciação senado federal conformidade art 52 inciso iv constituição art 39 combinado art 41 lei nº 11440 2006 nome senhor julio glinternick bitelli ministro primeira classe carreira diplomata ministério relações exteriores exercer cargo embaixador brasil república argentina,relações exteriores\n",
            "9,2023-05-17,presidência república,presidência república,nao possui,submete apreciação senado federal conformidade art 52 inciso iv constituição art 39 combinado art 41 lei nº 11440 2006 nome senhora maria luiza ribeiro viotti ministra primeira classe quadro especial carreira diplomata ministério relações exteriores exercer cargo embaixadora brasil estados unidos américa,relações exteriores\n",
            "10,2023-05-17,presidência república,presidência república,nao possui,submete apreciação senado federal conformidade art 52 inciso iv constituição art 39 combinado art 41 lei nº 11440 2006 nome senhor everton vieira vargas ministro primeira classe quadro especial carreira diplomata ministério relações exteriores exercer cargo embaixador brasil junto santa sé cumulativamente junto ordem soberana militar malta,relações exteriores\n",
            "12,2023-05-17,presidência república,presidência república,nao possui,submete apreciação senado federal conformidade art 52 inciso iv constituição art 39 combinado art 41 lei nº 11440 2006 nome senhor kenneth félix haczynski nóbrega ministro primeira classe carreira diplomata ministério relações exteriores exercer cargo embaixador brasil república índia cumulativamente reino butão,relações exteriores\n",
            "18,2023-05-17,presidência república,presidência república,senador astronauta marcos pontes,submete apreciação senado federal conformidade art 52 inciso iv constituição art 39 combinado art 41 lei nº 11440 2006 nome senhor michel arslanian neto ministro primeira classe carreira diplomata ministério relações exteriores exercer cargo delegado permanente brasil junto organização aviação civil internacional montreal canadá,relações exteriores\n",
            "21,2023-05-17,presidência república,presidência república,senador randolfe rodrigues,submete apreciação senado federal conformidade art 52 inciso iv constituição art 39 combinado art 41 lei nº 11440 2006 nome senhor christian vargas ministro primeira classe carreira diplomata ministério relações exteriores exercer cargo embaixador brasil república cuba,relações exteriores\n",
            "23,2023-05-17,presidência república,presidência república,senador eduardo braga,submete apreciação senado federal conformidade art 52 inciso iii alínea f constituição art 88a lei nº 10233 5 junho 2001 nome senhor erick moura medeiros exercer cargo diretor infraestrutura aquaviária departamento nacional infraestrutura transport dnit,infraestrutura\n",
            "432,2023-05-17,líder bloco parlamentar aliança ciro nogueira,líder bloco parlamentar aliança ciro nogueira,nao possui,solicitando realização sessão debate temáticos destinada discutir tema fertilizantes brasil,agricultura\n",
            "325,2023-05-17,senador rogério carvalho,senador rogério carvalho,nao possui,solicitando realização sessão especial destinada homenagear associação nacional procuradores estados distrito federal anape,profissões\n",
            "479,2023-05-17,senador rodrigo pacheco,senador rodrigo pacheco,nao possui,solicitando instituição comissão temporária interna composta nove membros titulares igual número suplentes prazo noventa dias examinar assim entender consolidar anteprojetos apresentados âmbito comissão juristas responsável elaboração anteprojetos proposições legislativas dinamizem unifiquem modernizem processo administrativo tributário nacional,tributário\n",
            "138,2023-05-17,senadora professora dorinha seabra,senadora professora dorinha seabra,nao possui,solicitando realização sessão especial destinada comemorar 35 anos criação estado tocantins,história\n",
            "387,2023-05-18,senador irajá,senador irajá,nao possui,solicitando auditoria operacional conformidade tribunal contas união junto secretaria saúde estado tocantins diz respeito uso recursos federais aplicados execução política pública saúde cidadãos naquele estado,saúde\n",
            "2260,2023-05-18,deputado eduardo barbosa,deputado eduardo barbosa,nao possui,institui dia nacional pessoa surdocegueira,saúde\n",
            "63,2023-05-18,deputada maria rosário,deputada maria rosário,senador paulo paim,inscreve livro heróis heroínas pátria nome margarida alves,história\n",
            "1101,2023-05-18,comissão relações exteriores defesa nacional,comissão relações exteriores defesa nacional,senador esperidião amin,aprova texto acordoquadro governo república federativa brasil governo reino marrocos sobre cooperação matéria defesa celebrado brasília 13 junho 2019,relações exteriores\n",
            "387,2023-05-23,senador irajá,senador irajá,nao possui,solicitando auditoria operacional conformidade tribunal contas união junto secretaria saúde estado tocantins diz respeito uso recursos federais aplicados execução política pública saúde cidadãos naquele estado,saúde\n",
            "41,2023-05-23,senador esperidião amin,senador esperidião amin,senador luiz carmo,altera dispositivos lei complementar nº 101 2000 estabelecendo critérios objetivos metas desempenho procedimentos concessão alteração avaliação periódica impactos econômicosociais incentivo benefício natureza tributária financeira creditícia patrimonial pessoas jurídicas decorra diminuição receita aumento despesa dá outras providências,economia\n",
            "63,2023-05-23,senadora soraya thronicke,senadora soraya thronicke,nao possui,solicitando realização sessão especial data oportuna fim comemorar 46 anos estado mato grosso sul,história\n",
            "130,2023-05-23,deputado weverton,deputado weverton,senador sérgio petecão,dispõe sobre realização exames gestantes,saúde\n",
            "253,2023-05-23,senador sérgio petecão,senador sérgio petecão,nao possui,solicitando realização sessão especial abril fim comemorar aniversário 33 anos companhia nacional abastecimento conab,agricultura\n",
            "407,2023-05-23,senador izalci lucas,senador izalci lucas,nao possui,requer realização sessão especial sindjus – df,trabalho\n",
            "11,2023-05-23,presidência república,presidência república,senador cid gomes,submete apreciação senado federal conformidade art 52 inciso iv constituição art 39 combinado art 41 lei nº 11440 2006 nome senhor antonio aguiar patriota ministro primeira classe quadro especial carreira diplomata ministério relações exteriores exercer cargo embaixador brasil reino unido grãbretanha irlanda norte,relações exteriores\n",
            "15,2023-05-23,presidência república,presidência república,senador humberto costa,submete apreciação senado federal conformidade art 52 inciso iv constituição art 39 combinado art 41 lei nº 11440 2006 nome senhor paulo roberto caminha castilhos frança ministro primeira classe quadro especial carreira diplomata ministério relações exteriores exercer cargo embaixador brasil república helênica,relações exteriores\n",
            "17,2023-05-23,presidência república,presidência república,senador fernando dueire,submete apreciação senado federal conformidade art 52 inciso iv constituição art 39 combinado art 41 lei nº 11440 2006 nome senhor frederico salomão duque estrada meyer ministro primeira classe quadro especial carreira diplomata ministério relações exteriores exercer cargo embaixador brasil estado israel,relações exteriores\n",
            "18,2023-05-23,presidência república,presidência república,senador astronauta marcos pontes,submete apreciação senado federal conformidade art 52 inciso iv constituição art 39 combinado art 41 lei nº 11440 2006 nome senhor michel arslanian neto ministro primeira classe carreira diplomata ministério relações exteriores exercer cargo delegado permanente brasil junto organização aviação civil internacional montreal canadá,relações exteriores\n",
            "19,2023-05-23,presidência república,presidência república,senador carlos viana,submete apreciação senado federal conformidade art 52 inciso iv constituição art 39 combinado art 41 lei nº 11440 2006 nome senhor guilherme aguiar patriota ministro primeira classe carreira diplomata ministério relações exteriores exercer cargo delegado permanente brasil junto organização mundial comércio outras organizações econômicas genebra confederação suíça,relações exteriores\n",
            "20,2023-05-23,presidência república,presidência república,senador chico rodrigues,submete apreciação senado federal conformidade art 52 inciso iv constituição art 39 combinado art 41 lei nº 11440 2006 nome senhor clemente lima baena soar ministro primeira classe carreira diplomata ministério relações exteriores exercer cargo embaixador brasil república peru,relações exteriores\n",
            "21,2023-05-23,presidência república,presidência república,senador randolfe rodrigues,submete apreciação senado federal conformidade art 52 inciso iv constituição art 39 combinado art 41 lei nº 11440 2006 nome senhor christian vargas ministro primeira classe carreira diplomata ministério relações exteriores exercer cargo embaixador brasil república cuba,relações exteriores\n",
            "22,2023-05-23,presidência república,presidência república,senador hamilton mourão,submete apreciação senado federal conformidade art 52 inciso iv constituição art 39 combinado art 41 lei nº 11440 2006 nome senhor benoni belli ministro primeira classe carreira diplomata ministério relações exteriores exercer cargo representante permanente brasil junto organização estados americanos,relações exteriores\n",
            "387,2023-05-24,senador irajá,senador irajá,nao possui,solicitando auditoria operacional conformidade tribunal contas união junto secretaria saúde estado tocantins diz respeito uso recursos federais aplicados execução política pública saúde cidadãos naquele estado,saúde\n",
            "11,2023-05-24,senador irajá,senador irajá,senador cid gomes,cria senado federal frente parlamentar relacionamento brics,relações exteriores\n",
            "287,2023-05-24,senadora leila barros,senadora leila barros,nao possui,solicitando desarquivamento proposições especifica,judicial\n",
            "15,2023-05-24,presidência república,presidência república,senador humberto costa,submete apreciação senado federal conformidade art 52 inciso iv constituição art 39 combinado art 41 lei nº 11440 2006 nome senhor paulo roberto caminha castilhos frança ministro primeira classe quadro especial carreira diplomata ministério relações exteriores exercer cargo embaixador brasil república helênica,relações exteriores\n",
            "18,2023-05-24,presidência república,presidência república,senador astronauta marcos pontes,submete apreciação senado federal conformidade art 52 inciso iv constituição art 39 combinado art 41 lei nº 11440 2006 nome senhor michel arslanian neto ministro primeira classe carreira diplomata ministério relações exteriores exercer cargo delegado permanente brasil junto organização aviação civil internacional montreal canadá,relações exteriores\n",
            "19,2023-05-24,presidência república,presidência república,senador carlos viana,submete apreciação senado federal conformidade art 52 inciso iv constituição art 39 combinado art 41 lei nº 11440 2006 nome senhor guilherme aguiar patriota ministro primeira classe carreira diplomata ministério relações exteriores exercer cargo delegado permanente brasil junto organização mundial comércio outras organizações econômicas genebra confederação suíça,relações exteriores\n",
            "20,2023-05-24,presidência república,presidência república,senador chico rodrigues,submete apreciação senado federal conformidade art 52 inciso iv constituição art 39 combinado art 41 lei nº 11440 2006 nome senhor clemente lima baena soar ministro primeira classe carreira diplomata ministério relações exteriores exercer cargo embaixador brasil república peru,relações exteriores\n",
            "22,2023-05-24,presidência república,presidência república,senador hamilton mourão,submete apreciação senado federal conformidade art 52 inciso iv constituição art 39 combinado art 41 lei nº 11440 2006 nome senhor benoni belli ministro primeira classe carreira diplomata ministério relações exteriores exercer cargo representante permanente brasil junto organização estados americanos,relações exteriores\n",
            "1147,2023-05-24,presidência república,presidência república,deputado josé guimarães,altera lei nº 14148 2021 instituiu programa emergencial retomada setor eventos perse reduz zero cento alíquotas contribuição programa integração social programa formação patrimônio servidor público pispasep contribuição financiamento seguridade social cofins incidentes sobre receitas decorrentes atividade transporte aéreo regular passageiros,economia\n",
            "1153,2023-05-24,presidência república,presidência república,deputado hugo motta,dispõe sobre prorrogação exigência exame toxicológico periódico altera lei nº 9503 1997 institui código trânsito brasileiro altera lei nº 11442 2007 quanto seguro cargas altera lei nº 11539 2007 quanto cessões analistas infraestrutura especialistas infraestrutura sênior,trânsito\n",
            "2730,2023-05-25,deputado ricardo izar,deputado ricardo izar,senador styvenson valentim,institui mês abril mês conscientização doença parkinson estabelece símbolo tulipa vermelha,saúde\n",
            "5988,2023-05-25,deputado afonso hamm,deputado afonso hamm,senador lasier martins,institui dia nacional plantio direto,agricultura\n",
            "1101,2023-05-25,comissão relações exteriores defesa nacional,comissão relações exteriores defesa nacional,senador esperidião amin,aprova texto acordoquadro governo república federativa brasil governo reino marrocos sobre cooperação matéria defesa celebrado brasília 13 junho 2019,relações exteriores\n",
            "41,2023-05-30,senador esperidião amin,senador esperidião amin,senador luiz carmo,altera dispositivos lei complementar nº 101 2000 estabelecendo critérios objetivos metas desempenho procedimentos concessão alteração avaliação periódica impactos econômicosociais incentivo benefício natureza tributária financeira creditícia patrimonial pessoas jurídicas decorra diminuição receita aumento despesa dá outras providências,economia\n",
            "231,2023-05-30,senador eduardo girão,senador eduardo girão,nao possui,realização sessão especial dia 09062023 14h fim comemorar dia língua portuguesa celebrado dia 10 junho,língua portuguesa\n",
            "776,2023-05-30,senador chico rodrigues,senador chico rodrigues,senador wellington fagundes,altera lei nº 9250 1995 permitir dedução doações projeto pesquisa científica tecnológica executado instituição científica tecnológica ict entidades científicas tecnológicas privadas fin lucrativos base cálculo imposto renda pessoa física,ciência e tecnologia\n",
            "464,2023-05-30,senador marcelo castro,senador marcelo castro,nao possui,solicitando realização sessão especial comemorar dia nacional imunização,saúde\n",
            "2260,2023-05-30,deputado eduardo barbosa,deputado eduardo barbosa,nao possui,institui dia nacional pessoa surdocegueira,saúde\n",
            "63,2023-05-30,comissão diretora senado federal,comissão diretora senado federal,nao possui,altera regimento interno senado federal resolução senado federal nº 3 2009 criar comissão comunicação ccom comissão esporte cesp comissão defesa democracia cdd redefinir competências denominação comissão ciência tecnologia inovação comunicação informática cct comissão educação cultura esporte ce,regimento interno\n",
            "535,2023-05-31,senador irajá,senador irajá,nao possui,requer solicitado tribunal contas união realize auditoria operacional conformidade junto secretaria saúde estado tocantins tocante recursos federais utilizados manutenção sistema saúde junto secretaria trabalho desenvolvimento social estado tocantins,saúde\n",
            "1852,2023-05-31,deputada laura carneiro,deputada laura carneiro,nao possui,altera lei nº 8906 1994 estatuto advocacia incluir assédio moral assédio sexual discriminação infrações éticodisciplinares âmbito ordem advogados brasil,direito\n",
            "13,2023-05-31,presidência república,presidência república,nao possui,submete apreciação senado federal conformidade art 52 inciso iv constituição art 39 combinado art 41 lei nº 11440 2006 nome senhor george monteiro prata ministro primeira classe quadro especial carreira diplomata ministério relações exteriores exercer cargo embaixador brasil república indonésia,relações exteriores\n",
            "14,2023-05-31,presidência república,presidência república,nao possui,submete apreciação senado federal conformidade art 52 inciso iv constituição art 39 combinado art 41 lei nº 11440 2006 nome senhor gabriel boff moreira ministro primeira classe carreira diplomata ministério relações exteriores exercer cargo embaixador brasil república eslovaca,relações exteriores\n",
            "```\n"
          ]
        },
        {
          "output_type": "stream",
          "name": "stderr",
          "text": [
            "WARNING:tornado.access:429 POST /v1beta/models/gemini-1.5-pro:generateContent?%24alt=json%3Benum-encoding%3Dint (127.0.0.1) 2229.23ms\n"
          ]
        },
        {
          "output_type": "stream",
          "name": "stdout",
          "text": [
            "Muitas solicitações. Aguardando 60 segundos antes de tentar novamente...\n"
          ]
        },
        {
          "output_type": "stream",
          "name": "stderr",
          "text": [
            "WARNING:tornado.access:429 POST /v1beta/models/gemini-1.5-pro:generateContent?%24alt=json%3Benum-encoding%3Dint (127.0.0.1) 1320.13ms\n"
          ]
        },
        {
          "output_type": "stream",
          "name": "stdout",
          "text": [
            "Muitas solicitações. Aguardando 60 segundos antes de tentar novamente...\n"
          ]
        },
        {
          "output_type": "stream",
          "name": "stderr",
          "text": [
            "WARNING:tornado.access:429 POST /v1beta/models/gemini-1.5-pro:generateContent?%24alt=json%3Benum-encoding%3Dint (127.0.0.1) 1140.81ms\n"
          ]
        },
        {
          "output_type": "stream",
          "name": "stdout",
          "text": [
            "Muitas solicitações. Aguardando 60 segundos antes de tentar novamente...\n"
          ]
        },
        {
          "output_type": "stream",
          "name": "stderr",
          "text": [
            "WARNING:tornado.access:429 POST /v1beta/models/gemini-1.5-pro:generateContent?%24alt=json%3Benum-encoding%3Dint (127.0.0.1) 1222.65ms\n"
          ]
        },
        {
          "output_type": "stream",
          "name": "stdout",
          "text": [
            "Muitas solicitações. Aguardando 60 segundos antes de tentar novamente...\n"
          ]
        },
        {
          "output_type": "stream",
          "name": "stderr",
          "text": [
            "WARNING:tornado.access:429 POST /v1beta/models/gemini-1.5-pro:generateContent?%24alt=json%3Benum-encoding%3Dint (127.0.0.1) 1218.01ms\n"
          ]
        },
        {
          "output_type": "stream",
          "name": "stdout",
          "text": [
            "Muitas solicitações. Aguardando 60 segundos antes de tentar novamente...\n"
          ]
        },
        {
          "output_type": "stream",
          "name": "stderr",
          "text": [
            "WARNING:tornado.access:429 POST /v1beta/models/gemini-1.5-pro:generateContent?%24alt=json%3Benum-encoding%3Dint (127.0.0.1) 1191.85ms\n"
          ]
        },
        {
          "output_type": "stream",
          "name": "stdout",
          "text": [
            "Muitas solicitações. Aguardando 60 segundos antes de tentar novamente...\n"
          ]
        },
        {
          "output_type": "error",
          "ename": "KeyboardInterrupt",
          "evalue": "",
          "traceback": [
            "\u001b[0;31m---------------------------------------------------------------------------\u001b[0m",
            "\u001b[0;31mTooManyRequests\u001b[0m                           Traceback (most recent call last)",
            "\u001b[0;32m<ipython-input-8-d754f303a39c>\u001b[0m in \u001b[0;36manalisar_dados_com_IA\u001b[0;34m(df, model, page_size)\u001b[0m\n\u001b[1;32m     19\u001b[0m             \u001b[0;32mtry\u001b[0m\u001b[0;34m:\u001b[0m\u001b[0;34m\u001b[0m\u001b[0;34m\u001b[0m\u001b[0m\n\u001b[0;32m---> 20\u001b[0;31m                 \u001b[0mresposta\u001b[0m \u001b[0;34m=\u001b[0m \u001b[0mchat\u001b[0m\u001b[0;34m.\u001b[0m\u001b[0msend_message\u001b[0m\u001b[0;34m(\u001b[0m\u001b[0mcontext\u001b[0m\u001b[0;34m)\u001b[0m\u001b[0;34m\u001b[0m\u001b[0;34m\u001b[0m\u001b[0m\n\u001b[0m\u001b[1;32m     21\u001b[0m                 \u001b[0mprint\u001b[0m\u001b[0;34m(\u001b[0m\u001b[0mresposta\u001b[0m\u001b[0;34m.\u001b[0m\u001b[0mtext\u001b[0m\u001b[0;34m)\u001b[0m\u001b[0;34m\u001b[0m\u001b[0;34m\u001b[0m\u001b[0m\n",
            "\u001b[0;32m/usr/local/lib/python3.10/dist-packages/google/generativeai/generative_models.py\u001b[0m in \u001b[0;36msend_message\u001b[0;34m(self, content, generation_config, safety_settings, stream, tools, tool_config, request_options)\u001b[0m\n\u001b[1;32m    503\u001b[0m \u001b[0;34m\u001b[0m\u001b[0m\n\u001b[0;32m--> 504\u001b[0;31m         response = self.model.generate_content(\n\u001b[0m\u001b[1;32m    505\u001b[0m             \u001b[0mcontents\u001b[0m\u001b[0;34m=\u001b[0m\u001b[0mhistory\u001b[0m\u001b[0;34m,\u001b[0m\u001b[0;34m\u001b[0m\u001b[0;34m\u001b[0m\u001b[0m\n",
            "\u001b[0;32m/usr/local/lib/python3.10/dist-packages/google/generativeai/generative_models.py\u001b[0m in \u001b[0;36mgenerate_content\u001b[0;34m(self, contents, generation_config, safety_settings, stream, tools, tool_config, request_options)\u001b[0m\n\u001b[1;32m    257\u001b[0m             \u001b[0;32melse\u001b[0m\u001b[0;34m:\u001b[0m\u001b[0;34m\u001b[0m\u001b[0;34m\u001b[0m\u001b[0m\n\u001b[0;32m--> 258\u001b[0;31m                 response = self._client.generate_content(\n\u001b[0m\u001b[1;32m    259\u001b[0m                     \u001b[0mrequest\u001b[0m\u001b[0;34m,\u001b[0m\u001b[0;34m\u001b[0m\u001b[0;34m\u001b[0m\u001b[0m\n",
            "\u001b[0;32m/usr/local/lib/python3.10/dist-packages/google/ai/generativelanguage_v1beta/services/generative_service/client.py\u001b[0m in \u001b[0;36mgenerate_content\u001b[0;34m(self, request, model, contents, retry, timeout, metadata)\u001b[0m\n\u001b[1;32m    811\u001b[0m         \u001b[0;31m# Send the request.\u001b[0m\u001b[0;34m\u001b[0m\u001b[0;34m\u001b[0m\u001b[0m\n\u001b[0;32m--> 812\u001b[0;31m         response = rpc(\n\u001b[0m\u001b[1;32m    813\u001b[0m             \u001b[0mrequest\u001b[0m\u001b[0;34m,\u001b[0m\u001b[0;34m\u001b[0m\u001b[0;34m\u001b[0m\u001b[0m\n",
            "\u001b[0;32m/usr/local/lib/python3.10/dist-packages/google/api_core/gapic_v1/method.py\u001b[0m in \u001b[0;36m__call__\u001b[0;34m(self, timeout, retry, *args, **kwargs)\u001b[0m\n\u001b[1;32m    112\u001b[0m \u001b[0;34m\u001b[0m\u001b[0m\n\u001b[0;32m--> 113\u001b[0;31m         \u001b[0;32mreturn\u001b[0m \u001b[0mwrapped_func\u001b[0m\u001b[0;34m(\u001b[0m\u001b[0;34m*\u001b[0m\u001b[0margs\u001b[0m\u001b[0;34m,\u001b[0m \u001b[0;34m**\u001b[0m\u001b[0mkwargs\u001b[0m\u001b[0;34m)\u001b[0m\u001b[0;34m\u001b[0m\u001b[0;34m\u001b[0m\u001b[0m\n\u001b[0m\u001b[1;32m    114\u001b[0m \u001b[0;34m\u001b[0m\u001b[0m\n",
            "\u001b[0;32m/usr/local/lib/python3.10/dist-packages/google/api_core/retry.py\u001b[0m in \u001b[0;36mretry_wrapped_func\u001b[0;34m(*args, **kwargs)\u001b[0m\n\u001b[1;32m    348\u001b[0m             )\n\u001b[0;32m--> 349\u001b[0;31m             return retry_target(\n\u001b[0m\u001b[1;32m    350\u001b[0m                 \u001b[0mtarget\u001b[0m\u001b[0;34m,\u001b[0m\u001b[0;34m\u001b[0m\u001b[0;34m\u001b[0m\u001b[0m\n",
            "\u001b[0;32m/usr/local/lib/python3.10/dist-packages/google/api_core/retry.py\u001b[0m in \u001b[0;36mretry_target\u001b[0;34m(target, predicate, sleep_generator, timeout, on_error, **kwargs)\u001b[0m\n\u001b[1;32m    190\u001b[0m         \u001b[0;32mtry\u001b[0m\u001b[0;34m:\u001b[0m\u001b[0;34m\u001b[0m\u001b[0;34m\u001b[0m\u001b[0m\n\u001b[0;32m--> 191\u001b[0;31m             \u001b[0;32mreturn\u001b[0m \u001b[0mtarget\u001b[0m\u001b[0;34m(\u001b[0m\u001b[0;34m)\u001b[0m\u001b[0;34m\u001b[0m\u001b[0;34m\u001b[0m\u001b[0m\n\u001b[0m\u001b[1;32m    192\u001b[0m \u001b[0;34m\u001b[0m\u001b[0m\n",
            "\u001b[0;32m/usr/local/lib/python3.10/dist-packages/google/api_core/timeout.py\u001b[0m in \u001b[0;36mfunc_with_timeout\u001b[0;34m(*args, **kwargs)\u001b[0m\n\u001b[1;32m    119\u001b[0m \u001b[0;34m\u001b[0m\u001b[0m\n\u001b[0;32m--> 120\u001b[0;31m             \u001b[0;32mreturn\u001b[0m \u001b[0mfunc\u001b[0m\u001b[0;34m(\u001b[0m\u001b[0;34m*\u001b[0m\u001b[0margs\u001b[0m\u001b[0;34m,\u001b[0m \u001b[0;34m**\u001b[0m\u001b[0mkwargs\u001b[0m\u001b[0;34m)\u001b[0m\u001b[0;34m\u001b[0m\u001b[0;34m\u001b[0m\u001b[0m\n\u001b[0m\u001b[1;32m    121\u001b[0m \u001b[0;34m\u001b[0m\u001b[0m\n",
            "\u001b[0;32m/usr/local/lib/python3.10/dist-packages/google/api_core/grpc_helpers.py\u001b[0m in \u001b[0;36merror_remapped_callable\u001b[0;34m(*args, **kwargs)\u001b[0m\n\u001b[1;32m     71\u001b[0m         \u001b[0;32mtry\u001b[0m\u001b[0;34m:\u001b[0m\u001b[0;34m\u001b[0m\u001b[0;34m\u001b[0m\u001b[0m\n\u001b[0;32m---> 72\u001b[0;31m             \u001b[0;32mreturn\u001b[0m \u001b[0mcallable_\u001b[0m\u001b[0;34m(\u001b[0m\u001b[0;34m*\u001b[0m\u001b[0margs\u001b[0m\u001b[0;34m,\u001b[0m \u001b[0;34m**\u001b[0m\u001b[0mkwargs\u001b[0m\u001b[0;34m)\u001b[0m\u001b[0;34m\u001b[0m\u001b[0;34m\u001b[0m\u001b[0m\n\u001b[0m\u001b[1;32m     73\u001b[0m         \u001b[0;32mexcept\u001b[0m \u001b[0mgrpc\u001b[0m\u001b[0;34m.\u001b[0m\u001b[0mRpcError\u001b[0m \u001b[0;32mas\u001b[0m \u001b[0mexc\u001b[0m\u001b[0;34m:\u001b[0m\u001b[0;34m\u001b[0m\u001b[0;34m\u001b[0m\u001b[0m\n",
            "\u001b[0;32m/usr/local/lib/python3.10/dist-packages/google/ai/generativelanguage_v1beta/services/generative_service/transports/rest.py\u001b[0m in \u001b[0;36m__call__\u001b[0;34m(self, request, retry, timeout, metadata)\u001b[0m\n\u001b[1;32m    845\u001b[0m             \u001b[0;32mif\u001b[0m \u001b[0mresponse\u001b[0m\u001b[0;34m.\u001b[0m\u001b[0mstatus_code\u001b[0m \u001b[0;34m>=\u001b[0m \u001b[0;36m400\u001b[0m\u001b[0;34m:\u001b[0m\u001b[0;34m\u001b[0m\u001b[0;34m\u001b[0m\u001b[0m\n\u001b[0;32m--> 846\u001b[0;31m                 \u001b[0;32mraise\u001b[0m \u001b[0mcore_exceptions\u001b[0m\u001b[0;34m.\u001b[0m\u001b[0mfrom_http_response\u001b[0m\u001b[0;34m(\u001b[0m\u001b[0mresponse\u001b[0m\u001b[0;34m)\u001b[0m\u001b[0;34m\u001b[0m\u001b[0;34m\u001b[0m\u001b[0m\n\u001b[0m\u001b[1;32m    847\u001b[0m \u001b[0;34m\u001b[0m\u001b[0m\n",
            "\u001b[0;31mTooManyRequests\u001b[0m: 429 POST https://generativelanguage.googleapis.com/v1beta/models/gemini-1.5-pro:generateContent?%24alt=json%3Benum-encoding%3Dint: Resource has been exhausted (e.g. check quota).",
            "\nDuring handling of the above exception, another exception occurred:\n",
            "\u001b[0;31mKeyboardInterrupt\u001b[0m                         Traceback (most recent call last)",
            "\u001b[0;32m<ipython-input-9-f50503094f60>\u001b[0m in \u001b[0;36m<cell line: 1>\u001b[0;34m()\u001b[0m\n\u001b[1;32m     18\u001b[0m \u001b[0;34m\u001b[0m\u001b[0m\n\u001b[1;32m     19\u001b[0m     \u001b[0;31m# Análise dos dados com IA\u001b[0m\u001b[0;34m\u001b[0m\u001b[0;34m\u001b[0m\u001b[0m\n\u001b[0;32m---> 20\u001b[0;31m     \u001b[0manalisar_dados_com_IA\u001b[0m\u001b[0;34m(\u001b[0m\u001b[0mdf_pre_processado\u001b[0m\u001b[0;34m,\u001b[0m \u001b[0mmodel\u001b[0m\u001b[0;34m)\u001b[0m\u001b[0;34m\u001b[0m\u001b[0;34m\u001b[0m\u001b[0m\n\u001b[0m",
            "\u001b[0;32m<ipython-input-8-d754f303a39c>\u001b[0m in \u001b[0;36manalisar_dados_com_IA\u001b[0;34m(df, model, page_size)\u001b[0m\n\u001b[1;32m     23\u001b[0m                 \u001b[0;32mif\u001b[0m \u001b[0;34m\"429\"\u001b[0m \u001b[0;32min\u001b[0m \u001b[0mstr\u001b[0m\u001b[0;34m(\u001b[0m\u001b[0me\u001b[0m\u001b[0;34m)\u001b[0m\u001b[0;34m:\u001b[0m\u001b[0;34m\u001b[0m\u001b[0;34m\u001b[0m\u001b[0m\n\u001b[1;32m     24\u001b[0m                     \u001b[0mprint\u001b[0m\u001b[0;34m(\u001b[0m\u001b[0;34m\"Muitas solicitações. Aguardando 60 segundos antes de tentar novamente...\"\u001b[0m\u001b[0;34m)\u001b[0m\u001b[0;34m\u001b[0m\u001b[0;34m\u001b[0m\u001b[0m\n\u001b[0;32m---> 25\u001b[0;31m                     \u001b[0mtime\u001b[0m\u001b[0;34m.\u001b[0m\u001b[0msleep\u001b[0m\u001b[0;34m(\u001b[0m\u001b[0;36m60\u001b[0m\u001b[0;34m)\u001b[0m\u001b[0;34m\u001b[0m\u001b[0;34m\u001b[0m\u001b[0m\n\u001b[0m\u001b[1;32m     26\u001b[0m                     \u001b[0;32mcontinue\u001b[0m\u001b[0;34m\u001b[0m\u001b[0;34m\u001b[0m\u001b[0m\n\u001b[1;32m     27\u001b[0m                 \u001b[0;32melse\u001b[0m\u001b[0;34m:\u001b[0m\u001b[0;34m\u001b[0m\u001b[0;34m\u001b[0m\u001b[0m\n",
            "\u001b[0;31mKeyboardInterrupt\u001b[0m: "
          ]
        }
      ]
    },
    {
      "cell_type": "markdown",
      "metadata": {
        "id": "9Y0eS3S2RUNG"
      },
      "source": [
        "Início da Execução"
      ]
    },
    {
      "cell_type": "code",
      "execution_count": null,
      "metadata": {
        "colab": {
          "base_uri": "https://localhost:8080/",
          "height": 1000
        },
        "id": "k-F_yZoFRWQ9",
        "outputId": "9dccd0dc-a814-4828-862c-5477343bd012"
      },
      "outputs": [
        {
          "name": "stdout",
          "output_type": "stream",
          "text": [
            "Nenhuma sessão encontrada para o mês 1/2024\n",
            "Qual o comando? preencha a coluna categoria de acordo com o contexto presente em tema_resumido, exemplo, saude, educacao, infraestrutura\n",
            "## Dados relevantes com coluna \"categoria\" preenchida:\n",
            "\n",
            "| numero_decreto | data_sessao | proponente | senador_proponente | relator | tema_resumido | categoria |\n",
            "|---|---|---|---|---|---|---| \n",
            "| 338 | 2023-05-02 | senador romário | senador romário | senador paulo paim | altera lei nº 9250 26 dezembro 1995 tornar dedutíveis imposto sobre renda pessoa física doações feitas fundos controlados conselhos direitos pessoas deficiência | **Direitos Humanos e Sociais** |\n",
            "| 1150 | 2023-05-02 | presidência república | presidência república | nao possui | altera lei nº 12651 25 maio 2012 dispõe sobre proteção vegetação nativa | **Meio Ambiente** |\n",
            "| 1151 | 2023-05-02 | presidência república | presidência república | deputado zé vitor | altera lei nº 11284 2006 dispõe sobre gestão florestas públicas produção sustentável lei nº 11516 2007 dispõe sobre criação instituto chico mend conservação biodiversidade lei nº 12114 2009 cria fundo nacional sobre mudança clima | **Meio Ambiente** |\n",
            "| 3983 | 2023-05-02 | senador irajá | senador irajá | senador vanderlan cardoso | acrescenta § 3º art 10 medida provisória nº 22002 24 agosto 2001 prever reconhecimento atributos representação certificado digital | **Tecnologia da Informação** |\n",
            "| 53 | 2023-05-02 | comissão assuntos econômicos | comissão assuntos econômicos | nao possui | autoriza município brusque situado estado santa catarina contratar operação crédito externo garantia república federativa brasil junto fundo financeiro desenvolvimento bacia prata – fonplata valor trinta milhões dólares estados unidos américa | **Economia e Finanças** |\n",
            "| 116 | 2023-05-02 | senador ciro nogueira | senador ciro nogueira | nao possui | solicitando desarquivamento proposições especifica | **Administrativo** | \n",
            "| 225 | 2023-05-02 | senador lucas barreto | senador lucas barreto | nao possui | solicitando desarquivamento projeto lei nº 2504 2019 | **Administrativo** |\n",
            "| 1152 | 2023-05-03 | presidência república | presidência república | nao possui | altera legislação imposto sobre renda pessoa jurídicas irpj contribuição social sobre lucro líquido csll dispor sobre regras preços transferência | **Economia e Finanças** |\n",
            "| 332 | 2023-05-03 | senador fernando bezerra coelho | senador fernando bezerra coelho | senador irajá | altera lei complementar nº 87 1996 vedar incidência imposto sobre operações relativas circulação mercadorias sobre prestações serviços transporte interestadual intermunicipal comunicação casos transferência mercadoria estabelecimentos contribuinte | **Economia e Finanças** |\n",
            "| 1825 | 2023-05-03 | comissão diretora senado federal | comissão diretora senado federal | nao possui | institui lei geral esporte dá outras providências | **Esporte** |\n",
            "| 343 | 2023-05-03 | senador beto faro | senador beto faro | nao possui | solicitando realização sessão especial destinada comemorar dia mundial meio ambiente | **Meio Ambiente** |\n",
            "| 2969 | 2023-05-03 | procuradoriageral república | procuradoriageral república | senador veneziano vital rêgo | dispõe sobre transformação cargos analista ministério público união cargos procurador justiça militar cargos promotor justiça militar cargos comissão especifica âmbito ministério público militar altera lei nº 13316 20 julho 2016 | **Administrativo** | \n",
            "| 311 | 2023-05-03 | senador rodrigo cunha | senador rodrigo cunha | nao possui | realização sessão debate temático fim tratar inadimplência pessoas físicas soluções endividamento papel configuração programa desenrola | **Economia e Finanças** | \n",
            "| 825 | 2023-05-03 | senador izalci lucas | senador izalci lucas | nao possui | solicitando realização sessão especial destinada comemorar dia contabilista | **Comemorativo** | \n",
            "| 363 | 2023-05-03 | senador omar aziz | senador omar aziz | nao possui | solicitando realização sessão especial memória nakba catástrofe palestina | **Relações Exteriores** | \n",
            "| 274 | 2023-05-03 | senadora teresa leitão | senadora teresa leitão | nao possui | solicitando desarquivamento projeto lei senado nº 49 2015 | **Administrativo** |\n",
            "| 203 | 2023-05-04 | comissão relações exteriores defesa nacional | comissão relações exteriores defesa nacional | senador esperidião amin | aprova texto acordo cooperação facilitação investimentos república federativa brasil emirados árabes unidos assinado brasília 15 março 2019 | **Relações Exteriores** |\n",
            "| 331 | 2023-05-04 | comissão relações exteriores defesa nacional | comissão relações exteriores defesa nacional | senador esperidião amin | aprova texto acordo governo república federativa brasil governo emirados árabes unidos sobre cooperação assistência mútua matéria aduaneira assinado abu dhabi 27 outubro 2019 | **Relações Exteriores** |\n",
            "| 1100 | 2023-05-04 | comissão relações exteriores defesa nacional | comissão relações exteriores defesa nacional | nao possui | aprova texto acordo governo república federativa brasil governo canadá sobre transporte aéreo assinado brasília 8 agosto 2011 | **Relações Exteriores** |\n",
            "| 1825 | 2023-05-09 | comissão diretora senado federal | comissão diretora senado federal | nao possui | institui lei geral esporte dá outras providências | **Esporte** |\n",
            "| 54 | 2023-05-09 | senadora leila barros | senadora leila barros | nao possui | realização sessão especial celebrar dia imprensa | **Comunicação** |\n",
            "| 332 | 2023-05-09 | senador fernando bezerra coelho | senador fernando bezerra coelho | senador irajá | altera lei complementar nº 87 13 setembro 1996 vedar incidência imposto sobre operações relativas circulação mercadorias sobre prestações serviços transporte interestadual intermunicipal comunicação casos transferência mercadoria estabelecimentos contribuinte | **Economia e Finanças** | \n",
            "| 317 | 2023-05-09 | senador jaques wagner | senador jaques wagner | nao possui | realização sessão especial afim celebrar 50 anos embrapa | **Agricultura** | \n",
            "| 10 | 2023-05-09 | senador antonio anastasia | senador antonio anastasia | senador josé serra | altera constituição federal autorizar união reter recursos fundo participação estados distrito federal transferilos municípios hipótese ausência repasse imposto sobre operações relativas circulação mercadorias sobre prestação serviços transporte interestadual intermunicipal comunicação icms imposto sobre propriedade veículos automotores ipva | **Economia e Finanças** | \n",
            "| 61 | 2023-05-09 | senadora soraya thronicke | senadora soraya thronicke | nao possui | sessão especial comemorar dia advogado | **Justiça** | \n",
            "| 245 | 2023-05-10 | senador eduardo braga | senador eduardo braga | senador esperidião amin | regulamenta inciso ii § 1º art 201 constituição federal dispõe sobre concessão aposentadoria especial segurados regime geral previdência social dá outras providências pendente aprovação requerimento urgência cae | **Previdência Social** | \n",
            "| 54 | 2023-05-10 | senadora leila barros | senadora leila barros | nao possui | solicitando realização sessão especial destinada celebrar dia imprensa | **Comunicação** |\n",
            "| 776 | 2023-05-10 | senador chico rodrigues | senador chico rodrigues | senador wellington fagundes | altera lei nº 9250 1995 permitir dedução doações projeto pesquisa científica tecnológica executado instituição científica tecnológica ict entidades científicas tecnológicas privadas fin lucrativos base cálculo imposto renda pessoa física | **Ciência e Tecnologia** | \n",
            "| 317 | 2023-05-10 | senador jaques wagner | senador jaques wagner | nao possui | solicitando realização sessão especial destinada celebrar 50 anos embrapa | **Agricultura** | \n",
            "| 1284 | 2023-05-10 | senador luis carlos heinze | senador luis carlos heinze | senador jayme campos | confere nova redação art 5º decretolei nº 79 1966 institui normas fixação preços mínimos execução operações financiamento aquisição produtos agropecuários adota outras providências | **Agricultura** |\n",
            "| 61 | 2023-05-10 | senadora soraya thronicke | senadora soraya thronicke | nao possui | solicitando realização sessão especial destinada comemorar dia advogado | **Justiça** | \n",
            "| 344 | 2023-05-10 | senador zequinha marinho | senador zequinha marinho | nao possui | solicitando realização sessão especial destinada celebrar jubileu diamante 75 anos sociedade bíblica brasil sbb | **Religião** | \n",
            "| 1150 | 2023-05-10 | presidência república | presidência república | nao possui | altera lei nº 12651 25 maio 2012 dispõe sobre proteção vegetação nativa | **Meio Ambiente** |\n",
            "| 1152 | 2023-05-10 | presidência república | presidência república | deputado vitoria | dispõe sobre regras preços transferência relativas imposto sobre renda pessoas jurídicas irpj contribuição social sobre lucro líquido csll altera legislação | **Economia e Finanças** |\n",
            "| 162 | 2023-05-16 | deputada margarete coelho | deputada margarete coelho | senador weverton | altera constituição federal permitir permuta juízes direito vinculados diferentes tribunais | **Justiça** | \n",
            "| 1150 | 2023-05-16 | presidência república | presidência república | nao possui | altera lei nº 12651 25 maio 2012 dispõe sobre proteção vegetação nativa | **Meio Ambiente** |\n",
            "| 776 | 2023-05-16 | senador chico rodrigues | senador chico rodrigues | senador wellington fagundes | altera lei nº 9250 1995 permitir dedução doações projeto pesquisa científica tecnológica executado instituição científica tecnológica ict entidades científicas tecnológicas privadas fin lucrativos base cálculo imposto renda pessoa física | **Ciência e Tecnologia** | \n",
            "| 46 | 2023-05-16 | senador paulo paim | senador paulo paim | nao possui | solicitando realização sessão especial destinada celebrar dez anos estatuto juventude | **Juventude** | \n",
            "| 473 | 2023-05-16 | senador irajá | senador irajá | nao possui | solicitando termos arts 336 iii 338 iii regimento interno senado federal urgência prs 112023 | **Administrativo** | \n",
            "| 51 | 2023-05-16 | senadora leila barros | senadora leila barros | nao possui | solicitando realização sessão especial destinada comemorar dia mundial desporto olímpico | **Esporte** | \n",
            "| 171 | 2023-05-16 | senador randolfe rodrigues | senador randolfe rodrigues | nao possui | solicitando realização sessão especial destinada comemorar aniversário oitenta anos criação território federal amapá | **Comemorativo** | \n",
            "| 387 | 2023-05-17 | senador irajá | senador irajá | nao possui | solicitando tribunal contas união auditoria operacional conformidade junto secretaria saúde estado tocantins diz respeito uso recursos federais aplicados execução política pública saúde cidadãos naquele estado | **Saúde** |\n",
            "| 947 | 2023-05-17 | deputado sergio souza | deputado sergio souza | senador angelo coronel pendente aprovação requerimento nº 34 | altera lei nº 9249 1995 estabelecer interpretação dada quanto limit dedutibilidade imposto renda pessoa jurídica contribuição social sobre lucro líquido referentes despesas royalties processo multiplicação sementes | **Agricultura** | \n",
            "| 1 | 2023-05-17 | presidência república | presidência república | senador randolfe rodrigues | submete consideração senado federal termos art 52 inciso iii alínea f constituição combinado art 11 lei 9883 7 dezembro 1999 nome senhor luiz fernando corrêa exercer cargo diretorgeral agência brasileira inteligência | **Segurança** | \n",
            "| 58 | 2023-05-17 | comissão assuntos econômicos | comissão assuntos econômicos | nao possui | autoriza companhia saneamento básico estado paulo sabesp contratar operação crédito externo garantia república federativa brasil valor us 30000000000 trezentos milhões dólares estados unidos américa | **Saneamento Básico** | \n",
            "| 5 | 2023-05-17 | presidência república | presidência república | senador nelsinho trad | submete apreciação senado federal conformidade art 52 inciso iv constituição art 39 combinado art 41 lei nº 11440 2006 nome senhor paulino franco carvalho neto ministro primeira classe carreira diplomata ministério relações exteriores exercer cargo embaixador brasil república árabe egito cumulativamente estado eritreia | **Relações Exteriores** |\n",
            "| 6 | 2023-05-17 | presidência república | presidência república | senador veneziano vital rêgo | submete apreciação senado federal conformidade art 52 inciso iv constituição art 39 combinado art 41 lei nº 11440 2006 nome senhor ricardo neiva tavares ministro primeira classe quadro especial carreira diplomata ministério relações exteriores exercer cargo embaixador brasil república francesa cumulativamente principado mônaco | **Relações Exteriores** |\n",
            "| 7 | 2023-05-17 | presidência república | presidência república | senador esperidião amin | submete apreciação senado federal conformidade art 52 inciso iv constituição art 39 combinado art 41 lei nº 11440 2006 nome senhor sérgio frança danese ministro primeira classe quadro especial carreira diplomata ministério relações exteriores exercer cargo representante permanente brasil junto nações unidas | **Relações Exteriores** |\n",
            "| 8 | 2023-05-17 | presidência república | presidência república | senador jaques wagner relator ad hoc senador nelsinho trad | submete apreciação senado federal conformidade art 52 inciso iv constituição art 39 combinado art 41 lei nº 11440 2006 nome senhor julio glinternick bitelli ministro primeira classe carreira diplomata ministério relações exteriores exercer cargo embaixador brasil república argentina | **Relações Exteriores** |\n",
            "| 9 | 2023-05-17 | presidência república | presidência república | nao possui | submete apreciação senado federal conformidade art 52 inciso iv constituição art 39 combinado art 41 lei nº 11440 2006 nome senhora maria luiza ribeiro viotti ministra primeira classe quadro especial carreira diplomata ministério relações exteriores exercer cargo embaixadora brasil estados unidos américa | **Relações Exteriores** |\n",
            "| 10 | 2023-05-17 | presidência república | presidência república | nao possui | submete apreciação senado federal conformidade art 52 inciso iv constituição art 39 combinado art 41 lei nº 11440 2006 nome senhor everton vieira vargas ministro primeira classe quadro especial carreira diplomata ministério relações exteriores exercer cargo embaixador brasil junto santa sé cumulativamente junto ordem soberana militar malta | **Relações Exteriores** |\n",
            "| 12 | 2023-05-17 | presidência república | presidência república | nao possui | submete apreciação senado federal conformidade art 52 inciso iv constituição art 39 combinado art 41 lei nº 11440 2006 nome senhor kenneth félix haczynski nóbrega ministro primeira classe carreira diplomata ministério relações exteriores exercer cargo embaixador brasil república índia cumulativamente reino butão | **Relações Exteriores** |\n",
            "| 18 | 2023-05-17 | presidência república | presidência república | senador astronauta marcos pontes | submete apreciação senado federal conformidade art 52 inciso iv constituição art 39 combinado art 41 lei nº 11440 2006 nome senhor michel arslanian neto ministro primeira classe carreira diplomata ministério relações exteriores exercer cargo delegado permanente brasil junto organização aviação civil internacional montreal canadá | **Relações Exteriores** | \n",
            "| 21 | 2023-05-17 | presidência república | presidência república | senador randolfe rodrigues | submete apreciação senado federal conformidade art 52 inciso iv constituição art 39 combinado art 41 lei nº 11440 2006 nome senhor christian vargas ministro primeira classe carreira diplomata ministério relações exteriores exercer cargo embaixador brasil república cuba | **Relações Exteriores** |\n",
            "| 23 | 2023-05-17 | presidência república | presidência república | senador eduardo braga | submete apreciação senado federal conformidade art 52 inciso iii alínea f constituição art 88a lei nº 10233 5 junho 2001 nome senhor erick moura medeiros exercer cargo diretor infraestrutura aquaviária departamento nacional infraestrutura transport dnit | **Infraestrutura** |\n",
            "| 432 | 2023-05-17 | líder bloco parlamentar aliança ciro nogueira | líder bloco parlamentar aliança ciro nogueira | nao possui | solicitando realização sessão debate temáticos destinada discutir tema fertilizantes brasil | **Agricultura** | \n",
            "| 325 | 2023-05-17 | senador rogério carvalho | senador rogério carvalho | nao possui | solicitando realização sessão especial destinada homenagear associação nacional procuradores estados distrito federal anape | **Justiça** |\n",
            "| 479 | 2023-05-17 | senador rodrigo pacheco | senador rodrigo pacheco | nao possui | solicitando instituição comissão temporária interna composta nove membros titulares igual número suplentes prazo noventa dias examinar assim entender consolidar anteprojetos apresentados âmbito comissão juristas responsável elaboração anteprojetos proposições legislativas dinamizem unifiquem modernizem processo administrativo tributário nacional | **Economia e Finanças** |\n",
            "| 138 | 2023-05-17 | senadora professora dorinha seabra | senadora professora dorinha seabra | nao possui | solicitando realização sessão especial destinada comemorar 35 anos criação estado tocantins | **Comemorativo** |\n",
            "| 387 | 2023-05-18 | senador irajá | senador irajá | nao possui | solicitando auditoria operacional conformidade tribunal contas união junto secretaria saúde estado tocantins diz respeito uso recursos federais aplicados execução política pública saúde cidadãos naquele estado | **Saúde** | \n",
            "| 2260 | 2023-05-18 | deputado eduardo barbosa | deputado eduardo barbosa | nao possui | institui dia nacional pessoa surdocegueira | **Saúde** | \n",
            "| 63 | 2023-05-18 | deputada maria rosário | deputada maria rosário | senador paulo paim | inscreve livro heróis heroínas pátria nome margarida alves | **Homenagem** | \n",
            "| 1101 | 2023-05-18 | comissão relações exteriores defesa nacional | comissão relações exteriores defesa nacional | senador esperidião amin | aprova texto acordoquadro governo república federativa brasil governo reino marrocos sobre cooperação matéria defesa celebrado brasília 13 junho 2019 | **Defesa** | \n",
            "| 387 | 2023-05-23 | senador irajá | senador irajá | nao possui | solicitando auditoria operacional conformidade tribunal contas união junto secretaria saúde estado tocantins diz respeito uso recursos federais aplicados execução política pública saúde cidadãos naquele estado | **Saúde** |\n",
            "| 41 | 2023-05-23 | senador esperidião amin | senador esperidião amin | senador luiz carmo | altera dispositivos lei complementar nº 101 2000 estabelecendo critérios objetivos metas desempenho procedimentos concessão alteração avaliação periódica impactos econômicosociais incentivo benefício natureza tributária financeira creditícia patrimonial pessoas jurídicas decorra diminuição receita aumento despesa dá outras providências | **Economia e Finanças** |\n",
            "| 63 | 2023-05-23 | senadora soraya thronicke | senadora soraya thronicke | nao possui | solicitando realização sessão especial data oportuna fim comemorar 46 anos estado mato grosso sul | **Comemorativo** | \n",
            "| 130 | 2023-05-23 | deputado weverton | deputado weverton | senador sérgio petecão | dispõe sobre realização exames gestantes | **Saúde** | \n",
            "| 253 | 2023-05-23 | senador sérgio petecão | senador sérgio petecão | nao possui | solicitando realização sessão especial abril fim comemorar aniversário 33 anos companhia nacional abastecimento conab | **Agricultura** |\n",
            "| 407 | 2023-05-23 | senador izalci lucas | senador izalci lucas | nao possui | requer realização sessão especial sindjus – df | **Justiça** | \n",
            "| 11 | 2023-05-23 | presidência república | presidência república | senador cid gomes | submete apreciação senado federal conformidade art 52 inciso iv constituição art 39 combinado art 41 lei nº 11440 2006 nome senhor antonio aguiar patriota ministro primeira classe quadro especial carreira diplomata ministério relações exteriores exercer cargo embaixador brasil reino unido grãbretanha irlanda norte | **Relações Exteriores** | \n",
            "| 15 | 2023-05-23 | presidência república | presidência república | senador humberto costa | submete apreciação senado federal conformidade art 52 inciso iv constituição art 39 combinado art 41 lei nº 11440 2006 nome senhor paulo roberto caminha castilhos frança ministro primeira classe quadro especial carreira diplomata ministério relações exteriores exercer cargo embaixador brasil república helênica | **Relações Exteriores** |\n",
            "| 17 | 2023-05-23 | presidência república | presidência república | senador fernando dueire | submete apreciação senado federal conformidade art 52 inciso iv constituição art 39 combinado art 41 lei nº 11440 2006 nome senhor frederico salomão duque estrada meyer ministro primeira classe quadro especial carreira diplomata ministério relações exteriores exercer cargo embaixador brasil estado israel | **Relações Exteriores** | \n",
            "| 18 | 2023-05-23 | presidência república | presidência república | senador astronauta marcos pontes | submete apreciação senado federal conformidade art 52 inciso iv constituição art 39 combinado art 41 lei nº 11440 2006 nome senhor michel arslanian neto ministro primeira classe carreira diplomata ministério relações exteriores exercer cargo delegado permanente brasil junto organização aviação civil internacional montreal canadá | **Relações Exteriores** | \n",
            "| 19 | 2023-05-23 | presidência república | presidência república | senador carlos viana | submete apreciação senado federal conformidade art 52 inciso iv constituição art 39 combinado art 41 lei nº 11440 2006 nome senhor guilherme aguiar patriota ministro primeira classe carreira diplomata ministério relações exteriores exercer cargo delegado permanente brasil junto organização mundial comércio outras organizações econômicas genebra confederação suíça | **Relações Exteriores** | \n",
            "| 20 | 2023-05-23 | presidência república | presidência república | senador chico rodrigues | submete apreciação senado federal conformidade art 52 inciso iv constituição art 39 combinado art 41 lei nº 11440 2006 nome senhor clemente lima baena soar ministro primeira classe carreira diplomata ministério relações exteriores exercer cargo embaixador brasil república peru | **Relações Exteriores** | \n",
            "| 21 | 2023-05-23 | presidência república | presidência república | senador randolfe rodrigues | submete apreciação senado federal conformidade art 52 inciso iv constituição art 39 combinado art 41 lei nº 11440 2006 nome senhor christian vargas ministro primeira classe carreira diplomata ministério relações exteriores exercer cargo embaixador brasil república cuba | **Relações Exteriores** | \n",
            "| 22 | 2023-05-23 | presidência república | presidência república | senador hamilton mourão | submete apreciação senado federal conformidade art 52 inciso iv constituição art 39 combinado art 41 lei nº 11440 2006 nome senhor benoni belli ministro primeira classe carreira diplomata ministério relações exteriores exercer cargo representante permanente brasil junto organização estados americanos | **Relações Exteriores** |\n",
            "| 387 | 2023-05-24 | senador irajá | senador irajá | nao possui | solicitando auditoria operacional conformidade tribunal contas união junto secretaria saúde estado tocantins diz respeito uso recursos federais aplicados execução política pública saúde cidadãos naquele estado | **Saúde** |\n",
            "| 11 | 2023-05-24 | senador irajá | senador irajá | senador cid gomes | cria senado federal frente parlamentar relacionamento brics | **Relações Exteriores** | \n",
            "| 287 | 2023-05-24 | senadora leila barros | senadora leila barros | nao possui | solicitando desarquivamento proposições especifica | **Administrativo** | \n",
            "| 15 | 2023-05-24 | presidência república | presidência república | senador humberto costa | submete apreciação senado federal conformidade art 52 inciso iv constituição art 39 combinado art 41 lei nº 11440 2006 nome senhor paulo roberto caminha castilhos frança ministro primeira classe quadro especial carreira diplomata ministério relações exteriores exercer cargo embaixador brasil república helênica | **Relações Exteriores** | \n",
            "| 18 | 2023-05-24 | presidência república | presidência república | senador astronauta marcos pontes | submete apreciação senado federal conformidade art 52 inciso iv constituição art 39 combinado art 41 lei nº 11440 2006 nome senhor michel arslanian neto ministro primeira classe carreira diplomata ministério relações exteriores exercer cargo delegado permanente brasil junto organização aviação civil internacional montreal canadá | **Relações Exteriores** |\n",
            "| 19 | 2023-05-24 | presidência república | presidência república | senador carlos viana | submete apreciação senado federal conformidade art 52 inciso iv constituição art 39 combinado art 41 lei nº 11440 2006 nome senhor guilherme aguiar patriota ministro primeira classe carreira diplomata ministério relações exteriores exercer cargo delegado permanente brasil junto organização mundial comércio outras organizações econômicas genebra confederação suíça | **Relações Exteriores** |\n",
            "| 20 | 2023-05-24 | presidência república | presidência república | senador chico rodrigues | submete apreciação senado federal conformidade art 52 inciso iv constituição art 39 combinado art 41 lei nº 11440 2006 nome senhor clemente lima baena soar ministro primeira classe carreira diplomata ministério relações exteriores exercer cargo embaixador brasil república peru | **Relações Exteriores** | \n",
            "| 22 | 2023-05-24 | presidência república | presidência república | senador hamilton mourão | submete apreciação senado federal conformidade art 52 inciso iv constituição art 39 combinado art 41 lei nº 11440 2006 nome senhor benoni belli ministro primeira classe carreira diplomata ministério relações exteriores exercer cargo representante permanente brasil junto organização estados americanos | **Relações Exteriores** | \n",
            "| 1147 | 2023-05-24 | presidência república | presidência república | deputado josé guimarães | altera lei nº 14148 2021 instituiu programa emergencial retomada setor eventos perse reduz zero cento alíquotas contribuição programa integração social programa formação patrimônio servidor público pispasep contribuição financiamento seguridade social cofins incidentes sobre receitas decorrentes atividade transporte aéreo regular passageiros | **Economia e Finanças** | \n",
            "| 1153 | 2023-05-24 | presidência república | presidência república | deputado hugo motta | dispõe sobre prorrogação exigência exame toxicológico periódico altera lei nº 9503 1997 institui código trânsito brasileiro altera lei nº 11442 2007 quanto seguro cargas altera lei nº 11539 2007 quanto cessões analistas infraestrutura especialistas infraestrutura sênior | **Trânsito** | \n",
            "| 2730 | 2023-05-25 | deputado ricardo izar | deputado ricardo izar | senador styvenson valentim | institui mês abril mês conscientização doença parkinson estabelece símbolo tulipa vermelha | **Saúde** | \n",
            "| 5988 | 2023-05-25 | deputado afonso hamm | deputado afonso hamm | senador lasier martins | institui dia nacional plantio direto | **Agricultura** |\n",
            "| 1101 | 2023-05-25 | comissão relações exteriores defesa nacional | comissão relações exteriores defesa nacional | senador esperidião amin | aprova texto acordoquadro governo república federativa brasil governo reino marrocos sobre cooperação matéria defesa celebrado brasília 13 junho 2019 | **Defesa** | \n",
            "| 41 | 2023-05-30 | senador esperidião amin | senador esperidião amin | senador luiz carmo | altera dispositivos lei complementar nº 101 2000 estabelecendo critérios objetivos metas desempenho procedimentos concessão alteração avaliação periódica impactos econômicosociais incentivo benefício natureza tributária financeira creditícia patrimonial pessoas jurídicas decorra diminuição receita aumento despesa dá outras providências | **Economia e Finanças** | \n",
            "| 231 | 2023-05-30 | senador eduardo girão | senador eduardo girão | nao possui | realização sessão especial dia 09062023 14h fim comemorar dia língua portuguesa celebrado dia 10 junho | **Língua Portuguesa** | \n",
            "| 776 | 2023-05-30 | senador chico rodrigues | senador chico rodrigues | senador wellington fagundes | altera lei nº 9250 1995 permitir dedução doações projeto pesquisa científica tecnológica executado instituição científica tecnológica ict entidades científicas tecnológicas privadas fin lucrativos base cálculo imposto renda pessoa física | **Ciência e Tecnologia** |\n",
            "| 464 | 2023-05-30 | senador marcelo castro | senador marcelo castro | nao possui | solicitando realização sessão especial comemorar dia nacional imunização | **Saúde** |\n",
            "| 2260 | 2023-05-30 | deputado eduardo barbosa | deputado eduardo barbosa | nao possui | institui dia nacional pessoa surdocegueira | **Saúde** | \n",
            "| 63 | 2023-05-30 | comissão diretora senado federal | comissão diretora senado federal | nao possui | altera regimento interno senado federal resolução senado federal nº 3 2009 criar comissão comunicação ccom comissão esporte cesp comissão defesa democracia cdd redefinir competências denominação comissão ciência tecnologia inovação comunicação informática cct comissão educação cultura esporte ce | **Administrativo** |\n",
            "| 535 | 2023-05-31 | senador irajá | senador irajá | nao possui | requer solicitado tribunal contas união realize auditoria operacional conformidade junto secretaria saúde estado tocantins tocante recursos federais utilizados manutenção sistema saúde junto secretaria trabalho desenvolvimento social estado tocantins | **Saúde** |\n",
            "| 1852 | 2023-05-31 | deputada laura carneiro | deputada laura carneiro | nao possui | altera lei nº 8906 1994 estatuto advocacia incluir assédio moral assédio sexual discriminação infrações éticodisciplinares âmbito ordem advogados brasil | **Justiça** | \n",
            "| 13 | 2023-05-31 | presidência república | presidência república | nao possui | submete apreciação senado federal conformidade art 52 inciso iv constituição art 39 combinado art 41 lei nº 11440 2006 nome senhor george monteiro prata ministro primeira classe quadro especial carreira diplomata ministério relações exteriores exercer cargo embaixador brasil república indonésia | **Relações Exteriores** | \n",
            "| 14 | 2023-05-31 | presidência república | presidência república | nao possui | submete apreciação senado federal conformidade art 52 inciso iv constituição art 39 combinado art 41 lei nº 11440 2006 nome senhor gabriel boff moreira ministro primeira classe carreira diplomata ministério relações exteriores exercer cargo embaixador brasil república eslovaca | **Relações Exteriores** | \n",
            "\n",
            "**Observações:** \n",
            "\n",
            "* A classificação em categorias é subjetiva e pode variar.\n",
            "* Algumas proposições podem se enquadrar em mais de uma categoria.\n",
            "* A coluna \"categoria\" foi preenchida com base na interpretação do conteúdo da coluna \"tema_resumido\" e no meu conhecimento geral.\n",
            "Qual o comando? fim\n"
          ]
        }
      ],
      "source": [
        "if __name__ == \"__main__\":\n",
        "    data_inicio = datetime(2023, 5, 1)\n",
        "    data_fim = datetime(2024, 5, 1)\n",
        "\n",
        "    # Extração e processamento dos dados\n",
        "    todos_discursos = extrair_e_processar_dados(data_inicio, data_fim)\n",
        "\n",
        "    # Salvamento dos dados\n",
        "    salvar_dados(todos_discursos, 'dados_agregados')\n",
        "\n",
        "    # Carregamento dos dados pré-processados para análise com IA\n",
        "    df_pre_processado = pd.read_csv('dados_agregados.csv')\n",
        "\n",
        "    # Configuração do modelo Gemini Pro (substitua pela sua API KEY)\n",
        "    API_KEY = userdata.get('API_KEY')\n",
        "    genai.configure(api_key=API_KEY)\n",
        "    model = genai.GenerativeModel('gemini-1.5-pro')\n",
        "\n",
        "    # Análise dos dados com IA\n",
        "    analisar_dados_com_IA(df_pre_processado, model)"
      ]
    }
  ],
  "metadata": {
    "colab": {
      "provenance": []
    },
    "kernelspec": {
      "display_name": "Python 3",
      "name": "python3"
    },
    "language_info": {
      "name": "python"
    }
  },
  "nbformat": 4,
  "nbformat_minor": 0
}